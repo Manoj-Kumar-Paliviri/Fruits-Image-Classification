{
  "nbformat": 4,
  "nbformat_minor": 0,
  "metadata": {
    "colab": {
      "name": "ML-Mini Project-Image Classification.ipynb",
      "provenance": [],
      "mount_file_id": "1WSZfO0b9ovHq4QRH8Uh0YCGALgf0vvCc",
      "authorship_tag": "ABX9TyMNsg2Q4CPQrvVc0l89zBaI",
      "include_colab_link": true
    },
    "kernelspec": {
      "name": "python3",
      "display_name": "Python 3"
    },
    "language_info": {
      "name": "python"
    }
  },
  "cells": [
    {
      "cell_type": "markdown",
      "metadata": {
        "id": "view-in-github",
        "colab_type": "text"
      },
      "source": [
        "<a href=\"https://colab.research.google.com/github/Manoj-Kumar-Paliviri/Fruits-Image-Classification/blob/main/ML_Mini_Project_Image_Classification.ipynb\" target=\"_parent\"><img src=\"https://colab.research.google.com/assets/colab-badge.svg\" alt=\"Open In Colab\"/></a>"
      ]
    },
    {
      "cell_type": "markdown",
      "metadata": {
        "id": "S8zt9Ne_-2HK"
      },
      "source": [
        "## **IMAGE CLASSIFICATION THROUGH MACHINE LEARNING**"
      ]
    },
    {
      "cell_type": "code",
      "metadata": {
        "id": "x2CwNU6SZH1k"
      },
      "source": [
        "#Preprocessing\n",
        "import os\n",
        "import numpy as np\n",
        "import pandas as pd\n",
        "import matplotlib.pyplot as plt\n",
        "from skimage.io import imread\n",
        "from skimage.transform import resize\n",
        "\n",
        "target = []                 #list for output(1-D) data(dependent variable)\n",
        "images = []                 #list for input(2-D) data\n",
        "flat_data = []              #list for flattened input data(1-D)(independent variable)\n",
        "\n",
        "DATADIR = '/content/drive/MyDrive/VERZEO/PYTHON-APRIL/Machine Learning/Data Sets/Fruits'\n",
        "CATEGORIES = ['ORANGE','BANANA','APPLE']\n",
        "\n",
        "for i in CATEGORIES:\n",
        "  class_num = CATEGORIES.index(i)               #label encoding\n",
        "  path = os.path.join(DATADIR,i)                #creating a path to use all the images\n",
        "  for img in os.listdir(path):\n",
        "    img_array = imread(os.path.join(path,img))\n",
        "    img_resized = resize(img_array,(150,150,3))  #normalizing each and every image iteratively to a number between 0 and 1\n",
        "    flat_data.append(img_resized.flatten())     #flattening the data and storing in the list\n",
        "    images.append(img_resized)\n",
        "    target.append(class_num)\n",
        "    #plt.imshow(img_resized)\n",
        "    #plt.show()                                 #Use just in case to show the resized images\n",
        "flat_data = np.array(flat_data)\n",
        "images = np.array(images)                         #transforming all the data into a 1-D array\n",
        "target = np.array(target)"
      ],
      "execution_count": 1,
      "outputs": []
    },
    {
      "cell_type": "code",
      "metadata": {
        "colab": {
          "base_uri": "https://localhost:8080/"
        },
        "id": "brixykQ3Pyc0",
        "outputId": "bf49cbe8-1a8a-4ad0-ee62-742fc4434d37"
      },
      "source": [
        "target"
      ],
      "execution_count": 2,
      "outputs": [
        {
          "output_type": "execute_result",
          "data": {
            "text/plain": [
              "array([0, 0, 0, 0, 0, 0, 0, 0, 0, 0, 0, 0, 0, 0, 0, 0, 0, 0, 0, 0, 0, 0,\n",
              "       0, 0, 0, 0, 0, 0, 0, 0, 1, 1, 1, 1, 1, 1, 1, 1, 1, 1, 1, 1, 1, 1,\n",
              "       1, 1, 1, 1, 1, 1, 1, 1, 1, 1, 1, 1, 1, 1, 1, 1, 2, 2, 2, 2, 2, 2,\n",
              "       2, 2, 2, 2, 2, 2, 2, 2, 2, 2, 2, 2, 2, 2, 2, 2, 2, 2, 2, 2, 2, 2,\n",
              "       2, 2])"
            ]
          },
          "metadata": {},
          "execution_count": 2
        }
      ]
    },
    {
      "cell_type": "code",
      "metadata": {
        "id": "PY73Soc8RWLa"
      },
      "source": [
        "unique,count = np.unique(target,return_counts=True)"
      ],
      "execution_count": 3,
      "outputs": []
    },
    {
      "cell_type": "code",
      "metadata": {
        "colab": {
          "base_uri": "https://localhost:8080/",
          "height": 282
        },
        "id": "UcHsym6VRgwY",
        "outputId": "ca3d121f-abea-4bf4-be14-8418be103040"
      },
      "source": [
        "plt.bar(unique,count)"
      ],
      "execution_count": 4,
      "outputs": [
        {
          "output_type": "execute_result",
          "data": {
            "text/plain": [
              "<BarContainer object of 3 artists>"
            ]
          },
          "metadata": {},
          "execution_count": 4
        },
        {
          "output_type": "display_data",
          "data": {
            "image/png": "[encoded data removed]",
            "text/plain": [
              "<Figure size 432x288 with 1 Axes>"
            ]
          },
          "metadata": {
            "needs_background": "light"
          }
        }
      ]
    },
    {
      "cell_type": "code",
      "metadata": {
        "id": "_bO_N1LyRvZj"
      },
      "source": [
        "#Splitting the data into training and testing\n",
        "from sklearn.model_selection import train_test_split\n",
        "x_train,x_test,y_train,y_test=train_test_split(flat_data,target,test_size=0.25,random_state=0)"
      ],
      "execution_count": 5,
      "outputs": []
    },
    {
      "cell_type": "code",
      "metadata": {
        "colab": {
          "base_uri": "https://localhost:8080/"
        },
        "id": "9WfIsKWXmTMx",
        "outputId": "e581e6bb-6d59-45d3-afed-684d96c18c64"
      },
      "source": [
        "from sklearn.svm import SVC\n",
        "model = SVC()\n",
        "model.fit(x_train,y_train)\n",
        "y_pred = model.predict(x_test)\n",
        "y_pred"
      ],
      "execution_count": 6,
      "outputs": [
        {
          "output_type": "execute_result",
          "data": {
            "text/plain": [
              "array([0, 0, 1, 1, 2, 1, 1, 1, 2, 2, 0, 2, 1, 2, 0, 0, 0, 1, 2, 1, 0, 0,\n",
              "       2])"
            ]
          },
          "metadata": {},
          "execution_count": 6
        }
      ]
    },
    {
      "cell_type": "code",
      "metadata": {
        "colab": {
          "base_uri": "https://localhost:8080/"
        },
        "id": "7jXLPjEGpcm4",
        "outputId": "1190367e-df77-45f8-e219-2cbfa81ea159"
      },
      "source": [
        "y_test"
      ],
      "execution_count": 7,
      "outputs": [
        {
          "output_type": "execute_result",
          "data": {
            "text/plain": [
              "array([0, 0, 1, 1, 2, 1, 1, 1, 2, 2, 0, 0, 1, 2, 0, 0, 0, 1, 2, 1, 0, 0,\n",
              "       2])"
            ]
          },
          "metadata": {},
          "execution_count": 7
        }
      ]
    },
    {
      "cell_type": "code",
      "metadata": {
        "colab": {
          "base_uri": "https://localhost:8080/"
        },
        "id": "FEQPlbMfWyNb",
        "outputId": "61d56b30-f8e6-4db0-b65e-95d502df5769"
      },
      "source": [
        "from sklearn.model_selection import GridSearchCV\n",
        "from sklearn import svm\n",
        "param_grid = {'C':[0.1,1,10,100],\n",
        "               'kernel':['linear','rbf']}              \n",
        "grid  = GridSearchCV(SVC(probability=True),param_grid)\n",
        "grid.fit(x_train,y_train)"
      ],
      "execution_count": 8,
      "outputs": [
        {
          "output_type": "execute_result",
          "data": {
            "text/plain": [
              "GridSearchCV(estimator=SVC(probability=True),\n",
              "             param_grid={'C': [0.1, 1, 10, 100], 'kernel': ['linear', 'rbf']})"
            ]
          },
          "metadata": {},
          "execution_count": 8
        }
      ]
    },
    {
      "cell_type": "code",
      "metadata": {
        "colab": {
          "base_uri": "https://localhost:8080/"
        },
        "id": "9-Ie0GMGlBwb",
        "outputId": "b43faccb-0b6d-43d3-a8df-5d15c42652fb"
      },
      "source": [
        "y_pred = grid.predict(x_test)\n",
        "y_pred"
      ],
      "execution_count": 9,
      "outputs": [
        {
          "output_type": "execute_result",
          "data": {
            "text/plain": [
              "array([0, 0, 1, 1, 2, 1, 1, 1, 0, 2, 0, 2, 1, 2, 0, 0, 0, 1, 2, 1, 0, 0,\n",
              "       2])"
            ]
          },
          "metadata": {},
          "execution_count": 9
        }
      ]
    },
    {
      "cell_type": "code",
      "metadata": {
        "colab": {
          "base_uri": "https://localhost:8080/"
        },
        "id": "PyX5DdqUlLlz",
        "outputId": "88ca480b-31fb-4506-c0cf-6f212af26339"
      },
      "source": [
        "y_test"
      ],
      "execution_count": 10,
      "outputs": [
        {
          "output_type": "execute_result",
          "data": {
            "text/plain": [
              "array([0, 0, 1, 1, 2, 1, 1, 1, 2, 2, 0, 0, 1, 2, 0, 0, 0, 1, 2, 1, 0, 0,\n",
              "       2])"
            ]
          },
          "metadata": {},
          "execution_count": 10
        }
      ]
    },
    {
      "cell_type": "code",
      "metadata": {
        "id": "dJ9LvluXlcr9"
      },
      "source": [
        "from sklearn.metrics import accuracy_score,confusion_matrix,classification_report"
      ],
      "execution_count": 11,
      "outputs": []
    },
    {
      "cell_type": "code",
      "metadata": {
        "colab": {
          "base_uri": "https://localhost:8080/"
        },
        "id": "qH2tiKUK71gi",
        "outputId": "7077f178-76e7-4811-cd85-996224a71628"
      },
      "source": [
        "accuracy_score(y_pred,y_test)"
      ],
      "execution_count": 12,
      "outputs": [
        {
          "output_type": "execute_result",
          "data": {
            "text/plain": [
              "0.9130434782608695"
            ]
          },
          "metadata": {},
          "execution_count": 12
        }
      ]
    },
    {
      "cell_type": "code",
      "metadata": {
        "id": "JJOVqjl475YW",
        "colab": {
          "base_uri": "https://localhost:8080/"
        },
        "outputId": "64aafa86-fc19-4d96-81f4-b1668926cdc5"
      },
      "source": [
        "confusion_matrix(y_pred,y_test)"
      ],
      "execution_count": 13,
      "outputs": [
        {
          "output_type": "execute_result",
          "data": {
            "text/plain": [
              "array([[8, 0, 1],\n",
              "       [0, 8, 0],\n",
              "       [1, 0, 5]])"
            ]
          },
          "metadata": {},
          "execution_count": 13
        }
      ]
    },
    {
      "cell_type": "code",
      "metadata": {
        "id": "1pr_glCqCQSf",
        "colab": {
          "base_uri": "https://localhost:8080/"
        },
        "outputId": "896b2a4b-fed1-49b1-fd74-1522e3b640cd"
      },
      "source": [
        "#saving the model using pickle\n",
        "import joblib\n",
        "joblib.dump(model,'Fruit Classifier')"
      ],
      "execution_count": 14,
      "outputs": [
        {
          "output_type": "execute_result",
          "data": {
            "text/plain": [
              "['Fruit Classifier']"
            ]
          },
          "metadata": {},
          "execution_count": 14
        }
      ]
    },
    {
      "cell_type": "code",
      "metadata": {
        "id": "SA_Cs6jdmyW4"
      },
      "source": [
        "model = joblib.load('Fruit Classifier')"
      ],
      "execution_count": 15,
      "outputs": []
    },
    {
      "cell_type": "code",
      "metadata": {
        "colab": {
          "base_uri": "https://localhost:8080/",
          "height": 321
        },
        "id": "HWWCphstnKvI",
        "outputId": "b6b53c1a-c3a6-4b7d-dca4-c8e3a5ef9abd"
      },
      "source": [
        "#Testing random image\n",
        "flat_data = []\n",
        "url = input('Enter the url of image:')\n",
        "img = imread(url)\n",
        "img_resized = resize(img,(150,150,3)) \n",
        "flat_data.append(img_resized.flatten())\n",
        "flat_data = np.array(flat_data)\n",
        "print(img.shape)\n",
        "plt.imshow(img_resized)\n",
        "y_out = model.predict(flat_data)\n",
        "y_out = CATEGORIES[y_out[0]]\n",
        "print(f'Predicted output:{y_out}')\n",
        "#sample image link - https://media.istockphoto.com/photos/orange-picture-id185284489?k=6&m=185284489&s=612x612&w=0&h=x_w4oMnanMTQ5KtSNjSNDdiVaSrlxM4om-3PQTIzFaY="
      ],
      "execution_count": 16,
      "outputs": [
        {
          "output_type": "stream",
          "name": "stdout",
          "text": [
            "Enter the url of image:https://media.istockphoto.com/photos/orange-picture-id185284489?k=6&m=185284489&s=612x612&w=0&h=x_w4oMnanMTQ5KtSNjSNDdiVaSrlxM4om-3PQTIzFaY=\n",
            "(563, 612, 3)\n",
            "Predicted output:ORANGE\n"
          ]
        },
        {
          "output_type": "display_data",
          "data": {
            "image/png": "[encoded data removed]",
            "text/plain": [
              "<Figure size 432x288 with 1 Axes>"
            ]
          },
          "metadata": {
            "needs_background": "light"
          }
        }
      ]
    },
    {
      "cell_type": "markdown",
      "metadata": {
        "id": "aM0WRjaP1Yc9"
      },
      "source": [
        "# **DEPLOYMENT USING STREAMLIT**\n",
        "\n"
      ]
    },
    {
      "cell_type": "code",
      "metadata": {
        "colab": {
          "base_uri": "https://localhost:8080/"
        },
        "id": "Y3AJ9Wm4qgwC",
        "outputId": "6d718673-a60f-420e-a243-27bc9f7dd68c"
      },
      "source": [
        "!pip install streamlit --quiet\n",
        "!pip install pyngrok==4.1.1 --quiet\n",
        "from pyngrok import ngrok "
      ],
      "execution_count": null,
      "outputs": [
        {
          "output_type": "stream",
          "name": "stdout",
          "text": [
            "\u001b[K     |████████████████████████████████| 9.7 MB 4.5 MB/s \n",
            "\u001b[K     |████████████████████████████████| 164 kB 50.4 MB/s \n",
            "\u001b[K     |████████████████████████████████| 180 kB 38.0 MB/s \n",
            "\u001b[K     |████████████████████████████████| 111 kB 39.5 MB/s \n",
            "\u001b[K     |████████████████████████████████| 4.3 MB 33.4 MB/s \n",
            "\u001b[K     |████████████████████████████████| 76 kB 1.2 MB/s \n",
            "\u001b[K     |████████████████████████████████| 63 kB 787 kB/s \n",
            "\u001b[K     |████████████████████████████████| 128 kB 66.0 MB/s \n",
            "\u001b[K     |████████████████████████████████| 792 kB 64.9 MB/s \n",
            "\u001b[K     |████████████████████████████████| 380 kB 70.7 MB/s \n",
            "\u001b[?25h  Building wheel for blinker (setup.py) ... \u001b[?25l\u001b[?25hdone\n",
            "\u001b[31mERROR: pip's dependency resolver does not currently take into account all the packages that are installed. This behaviour is the source of the following dependency conflicts.\n",
            "jupyter-console 5.2.0 requires prompt-toolkit<2.0.0,>=1.0.0, but you have prompt-toolkit 3.0.27 which is incompatible.\n",
            "google-colab 1.0.0 requires ipykernel~=4.10, but you have ipykernel 6.9.0 which is incompatible.\n",
            "google-colab 1.0.0 requires ipython~=5.5.0, but you have ipython 7.31.1 which is incompatible.\u001b[0m\n",
            "  Building wheel for pyngrok (setup.py) ... \u001b[?25l\u001b[?25hdone\n"
          ]
        }
      ]
    },
    {
      "cell_type": "code",
      "metadata": {
        "colab": {
          "base_uri": "https://localhost:8080/"
        },
        "id": "obgR5s071Q9t",
        "outputId": "1f8305f1-b408-4022-e6e3-1e24c6abbbf4"
      },
      "source": [
        "%%writefile ML_Mini_Project.py \n",
        "import streamlit as st\n",
        "import numpy as np\n",
        "from skimage.io import imread\n",
        "from skimage.transform import resize\n",
        "import joblib\n",
        "from PIL import Image\n",
        "st.title('Image Classfier using Machine Learning')\n",
        "st.text('Upload the image to classify')\n",
        "model = joblib.load('Fruit Classifier')\n",
        "uploaded_file = st.file_uploader(\"Choose an Image....\",type = 'jpg')\n",
        "\n",
        "if uploaded_file is not None:\n",
        "  img = Image.open(uploaded_file)\n",
        "  st.image(img,caption = 'Uploaded image')\n",
        "\n",
        "if st.button('PREDICT'):\n",
        "  st.write('Result....')\n",
        "  CATEGORIES = ['ORANGE','BANANA','APPLE']\n",
        "  flat_data = []\n",
        "  img = np.array(img)\n",
        "  img_resized = resize(img,(150,150,3)) \n",
        "  flat_data.append(img_resized.flatten())\n",
        "  flat_data = np.array(flat_data)\n",
        "  y_out = model.predict(flat_data)\n",
        "  y_out = CATEGORIES[y_out[0]]\n",
        "  st.title(f'Predicted output:{y_out}')\n",
        "  q = model.predict_proba(flat_data)\n",
        "  for index,item in enumerate(CATEGORIES):                  #prints the probability of all the categories\n",
        "    st.write(f'{item} : {q[0][index]*100}%')"
      ],
      "execution_count": null,
      "outputs": [
        {
          "output_type": "stream",
          "name": "stdout",
          "text": [
            "Writing ML_Mini_Project.py\n"
          ]
        }
      ]
    },
    {
      "cell_type": "code",
      "metadata": {
        "colab": {
          "base_uri": "https://localhost:8080/",
          "height": 53
        },
        "id": "BQo9n-km2oJh",
        "outputId": "b93ad8bd-5cdb-4c59-b46d-03dfc9b3e3bc"
      },
      "source": [
        "!nohup streamlit run app.py &\n",
        "url = ngrok.connect(port = '8501')\n",
        "url"
      ],
      "execution_count": null,
      "outputs": [
        {
          "output_type": "stream",
          "name": "stdout",
          "text": [
            "nohup: appending output to 'nohup.out'\n"
          ]
        },
        {
          "output_type": "execute_result",
          "data": {
            "application/vnd.google.colaboratory.intrinsic+json": {
              "type": "string"
            },
            "text/plain": [
              "'http://6de4-34-80-203-126.ngrok.io'"
            ]
          },
          "metadata": {},
          "execution_count": 19
        }
      ]
    }
  ]
}